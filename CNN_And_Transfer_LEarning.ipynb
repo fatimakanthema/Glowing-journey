{
  "cells": [
    {
      "cell_type": "markdown",
      "metadata": {
        "id": "view-in-github",
        "colab_type": "text"
      },
      "source": [
        "<a href=\"https://colab.research.google.com/github/fatimakanthema/Glowing-journey/blob/main/CNN_And_Transfer_LEarning.ipynb\" target=\"_parent\"><img src=\"https://colab.research.google.com/assets/colab-badge.svg\" alt=\"Open In Colab\"/></a>"
      ]
    },
    {
      "cell_type": "markdown",
      "metadata": {
        "id": "CpjfIQ2K75Yb"
      },
      "source": [
        "## Creating CNN Using Scratch And Transfer Learning"
      ]
    },
    {
      "cell_type": "markdown",
      "metadata": {
        "id": "7wDExih-75Yg"
      },
      "source": [
        "Please download the dataset from the below url"
      ]
    },
    {
      "cell_type": "code",
      "execution_count": 1,
      "metadata": {
        "id": "dwbHOsk875Yi"
      },
      "outputs": [],
      "source": [
        "# import the libraries as shown below\n",
        "\n",
        "from tensorflow.keras.layers import Input, Lambda, Dense, Flatten,Conv2D\n",
        "from tensorflow.keras.models import Model\n",
        "from tensorflow.keras.applications.vgg19 import VGG19\n",
        "from tensorflow.keras.applications.resnet50 import preprocess_input\n",
        "from tensorflow.keras.preprocessing import image\n",
        "from tensorflow.keras.preprocessing.image import ImageDataGenerator,load_img\n",
        "from tensorflow.keras.models import Sequential\n",
        "import numpy as np\n",
        "from glob import glob\n",
        "import matplotlib.pyplot as plt"
      ]
    },
    {
      "cell_type": "code",
      "source": [
        "from google.colab import drive\n",
        "drive.mount('/content/drive')"
      ],
      "metadata": {
        "colab": {
          "base_uri": "https://localhost:8080/"
        },
        "id": "M7U8VrO_-iEs",
        "outputId": "d5c87907-3b29-440c-a7dd-17adb124e0cb"
      },
      "execution_count": 2,
      "outputs": [
        {
          "output_type": "stream",
          "name": "stdout",
          "text": [
            "Mounted at /content/drive\n"
          ]
        }
      ]
    },
    {
      "cell_type": "code",
      "execution_count": 3,
      "metadata": {
        "id": "tjmK0cwO75Yl"
      },
      "outputs": [],
      "source": [
        "# re-size all the images to this\n",
        "IMAGE_SIZE = [224, 224]\n",
        "\n",
        "train_path = '/content/drive/MyDrive/dataset/Dataset/Train'\n",
        "valid_path = '/content/drive/MyDrive/dataset/Dataset/Test'\n"
      ]
    },
    {
      "cell_type": "code",
      "execution_count": 4,
      "metadata": {
        "colab": {
          "base_uri": "https://localhost:8080/"
        },
        "id": "99C2X42i75Ym",
        "outputId": "0286142b-bf81-4398-9265-d73eb17d6e51"
      },
      "outputs": [
        {
          "output_type": "stream",
          "name": "stdout",
          "text": [
            "Downloading data from https://storage.googleapis.com/tensorflow/keras-applications/vgg19/vgg19_weights_tf_dim_ordering_tf_kernels_notop.h5\n",
            "80134624/80134624 [==============================] - 0s 0us/step\n"
          ]
        }
      ],
      "source": [
        "# Import the Vgg 16 library as shown below and add preprocessing layer to the front of VGG\n",
        "# Here we will be using imagenet weights\n",
        "\n",
        "mobilnet = VGG19(input_shape=IMAGE_SIZE + [3], weights='imagenet', include_top=False)\n",
        "\n",
        "\n"
      ]
    },
    {
      "cell_type": "code",
      "execution_count": 5,
      "metadata": {
        "id": "Qx8WmJmx75Yn"
      },
      "outputs": [],
      "source": [
        "# don't train existing weights\n",
        "for layer in mobilnet.layers:\n",
        "    layer.trainable = False"
      ]
    },
    {
      "cell_type": "code",
      "execution_count": 6,
      "metadata": {
        "id": "CmVyTwd175Yo"
      },
      "outputs": [],
      "source": [
        "  # useful for getting number of output classes\n",
        "folders = glob('Dataset/Train/*')"
      ]
    },
    {
      "cell_type": "code",
      "execution_count": 7,
      "metadata": {
        "colab": {
          "base_uri": "https://localhost:8080/"
        },
        "id": "uofMTH_E75Yo",
        "outputId": "13c39008-6c78-4dbb-cd88-fb6bf269b5ce"
      },
      "outputs": [
        {
          "output_type": "execute_result",
          "data": {
            "text/plain": [
              "[]"
            ]
          },
          "metadata": {},
          "execution_count": 7
        }
      ],
      "source": [
        "folders"
      ]
    },
    {
      "cell_type": "code",
      "execution_count": 8,
      "metadata": {
        "id": "kUYbzth175Yr"
      },
      "outputs": [],
      "source": [
        "# our layers - you can add more if you want\n",
        "x = Flatten()(mobilnet.output)"
      ]
    },
    {
      "cell_type": "code",
      "execution_count": 9,
      "metadata": {
        "id": "rHIg5tJe75Ys"
      },
      "outputs": [],
      "source": [
        "prediction = Dense(len(folders), activation='softmax')(x)\n",
        "\n",
        "# create a model object\n",
        "model = Model(inputs=mobilnet.input, outputs=prediction)"
      ]
    },
    {
      "cell_type": "code",
      "execution_count": 10,
      "metadata": {
        "colab": {
          "base_uri": "https://localhost:8080/"
        },
        "id": "dVwN6NAh75Yt",
        "outputId": "5b29195a-a11e-4281-f64b-50e66d121d74"
      },
      "outputs": [
        {
          "output_type": "stream",
          "name": "stdout",
          "text": [
            "Model: \"model\"\n",
            "_________________________________________________________________\n",
            " Layer (type)                Output Shape              Param #   \n",
            "=================================================================\n",
            " input_1 (InputLayer)        [(None, 224, 224, 3)]     0         \n",
            "                                                                 \n",
            " block1_conv1 (Conv2D)       (None, 224, 224, 64)      1792      \n",
            "                                                                 \n",
            " block1_conv2 (Conv2D)       (None, 224, 224, 64)      36928     \n",
            "                                                                 \n",
            " block1_pool (MaxPooling2D)  (None, 112, 112, 64)      0         \n",
            "                                                                 \n",
            " block2_conv1 (Conv2D)       (None, 112, 112, 128)     73856     \n",
            "                                                                 \n",
            " block2_conv2 (Conv2D)       (None, 112, 112, 128)     147584    \n",
            "                                                                 \n",
            " block2_pool (MaxPooling2D)  (None, 56, 56, 128)       0         \n",
            "                                                                 \n",
            " block3_conv1 (Conv2D)       (None, 56, 56, 256)       295168    \n",
            "                                                                 \n",
            " block3_conv2 (Conv2D)       (None, 56, 56, 256)       590080    \n",
            "                                                                 \n",
            " block3_conv3 (Conv2D)       (None, 56, 56, 256)       590080    \n",
            "                                                                 \n",
            " block3_conv4 (Conv2D)       (None, 56, 56, 256)       590080    \n",
            "                                                                 \n",
            " block3_pool (MaxPooling2D)  (None, 28, 28, 256)       0         \n",
            "                                                                 \n",
            " block4_conv1 (Conv2D)       (None, 28, 28, 512)       1180160   \n",
            "                                                                 \n",
            " block4_conv2 (Conv2D)       (None, 28, 28, 512)       2359808   \n",
            "                                                                 \n",
            " block4_conv3 (Conv2D)       (None, 28, 28, 512)       2359808   \n",
            "                                                                 \n",
            " block4_conv4 (Conv2D)       (None, 28, 28, 512)       2359808   \n",
            "                                                                 \n",
            " block4_pool (MaxPooling2D)  (None, 14, 14, 512)       0         \n",
            "                                                                 \n",
            " block5_conv1 (Conv2D)       (None, 14, 14, 512)       2359808   \n",
            "                                                                 \n",
            " block5_conv2 (Conv2D)       (None, 14, 14, 512)       2359808   \n",
            "                                                                 \n",
            " block5_conv3 (Conv2D)       (None, 14, 14, 512)       2359808   \n",
            "                                                                 \n",
            " block5_conv4 (Conv2D)       (None, 14, 14, 512)       2359808   \n",
            "                                                                 \n",
            " block5_pool (MaxPooling2D)  (None, 7, 7, 512)         0         \n",
            "                                                                 \n",
            " flatten (Flatten)           (None, 25088)             0         \n",
            "                                                                 \n",
            " dense (Dense)               (None, 0)                 0         \n",
            "                                                                 \n",
            "=================================================================\n",
            "Total params: 20024384 (76.39 MB)\n",
            "Trainable params: 0 (0.00 Byte)\n",
            "Non-trainable params: 20024384 (76.39 MB)\n",
            "_________________________________________________________________\n"
          ]
        }
      ],
      "source": [
        "\n",
        "# view the structure of the model\n",
        "model.summary()\n"
      ]
    },
    {
      "cell_type": "code",
      "execution_count": 11,
      "metadata": {
        "id": "1fOPUDcz75Yt"
      },
      "outputs": [],
      "source": [
        "from tensorflow.keras.layers import MaxPooling2D"
      ]
    },
    {
      "cell_type": "code",
      "execution_count": 12,
      "metadata": {
        "colab": {
          "base_uri": "https://localhost:8080/"
        },
        "id": "7GbEOW6q75Yu",
        "outputId": "3a9bfe03-5c82-4c06-eeca-8fca83f0693b"
      },
      "outputs": [
        {
          "output_type": "stream",
          "name": "stdout",
          "text": [
            "Model: \"sequential\"\n",
            "_________________________________________________________________\n",
            " Layer (type)                Output Shape              Param #   \n",
            "=================================================================\n",
            " conv2d (Conv2D)             (None, 224, 224, 16)      208       \n",
            "                                                                 \n",
            " max_pooling2d (MaxPooling2  (None, 112, 112, 16)      0         \n",
            " D)                                                              \n",
            "                                                                 \n",
            " conv2d_1 (Conv2D)           (None, 112, 112, 32)      2080      \n",
            "                                                                 \n",
            " max_pooling2d_1 (MaxPoolin  (None, 56, 56, 32)        0         \n",
            " g2D)                                                            \n",
            "                                                                 \n",
            " conv2d_2 (Conv2D)           (None, 56, 56, 64)        8256      \n",
            "                                                                 \n",
            " max_pooling2d_2 (MaxPoolin  (None, 28, 28, 64)        0         \n",
            " g2D)                                                            \n",
            "                                                                 \n",
            " flatten_1 (Flatten)         (None, 50176)             0         \n",
            "                                                                 \n",
            " dense_1 (Dense)             (None, 500)               25088500  \n",
            "                                                                 \n",
            " dense_2 (Dense)             (None, 2)                 1002      \n",
            "                                                                 \n",
            "=================================================================\n",
            "Total params: 25100046 (95.75 MB)\n",
            "Trainable params: 25100046 (95.75 MB)\n",
            "Non-trainable params: 0 (0.00 Byte)\n",
            "_________________________________________________________________\n"
          ]
        }
      ],
      "source": [
        "### Create Model from scratch using CNN\n",
        "model=Sequential()\n",
        "model.add(Conv2D(filters=16,kernel_size=2,padding=\"same\",activation=\"relu\",input_shape=(224,224,3)))\n",
        "model.add(MaxPooling2D(pool_size=2))\n",
        "model.add(Conv2D(filters=32,kernel_size=2,padding=\"same\",activation =\"relu\"))\n",
        "model.add(MaxPooling2D(pool_size=2))\n",
        "model.add(Conv2D(filters=64,kernel_size=2,padding=\"same\",activation=\"relu\"))\n",
        "model.add(MaxPooling2D(pool_size=2))\n",
        "model.add(Flatten())\n",
        "model.add(Dense(500,activation=\"relu\"))\n",
        "model.add(Dense(2,activation=\"softmax\"))\n",
        "model.summary()"
      ]
    },
    {
      "cell_type": "code",
      "execution_count": 13,
      "metadata": {
        "id": "xWEW-bWC75Yv"
      },
      "outputs": [],
      "source": [
        "# tell the model what cost and optimization method to use\n",
        "model.compile(\n",
        "  loss='categorical_crossentropy',\n",
        "  optimizer='adam',\n",
        "  metrics=['accuracy']\n",
        ")\n"
      ]
    },
    {
      "cell_type": "code",
      "execution_count": 14,
      "metadata": {
        "id": "ydR-FpbV75Yv"
      },
      "outputs": [],
      "source": [
        "# Use the Image Data Generator to import the images from the dataset\n",
        "from tensorflow.keras.preprocessing.image import ImageDataGenerator\n",
        "\n",
        "train_datagen = ImageDataGenerator(rescale = 1./255,\n",
        "                                   shear_range = 0.2,\n",
        "                                   zoom_range = 0.2,\n",
        "                                   horizontal_flip = True)\n",
        "\n",
        "test_datagen = ImageDataGenerator(rescale = 1./255)"
      ]
    },
    {
      "cell_type": "code",
      "execution_count": 16,
      "metadata": {
        "colab": {
          "base_uri": "https://localhost:8080/"
        },
        "id": "MIabPY7n75Yw",
        "outputId": "1ea0d20c-9fbf-4dda-e323-4a379a8b6c29"
      },
      "outputs": [
        {
          "output_type": "stream",
          "name": "stdout",
          "text": [
            "Found 416 images belonging to 2 classes.\n"
          ]
        }
      ],
      "source": [
        "# Make sure you provide the same target size as initialied for the image size\n",
        "training_set = train_datagen.flow_from_directory('/content/drive/MyDrive/dataset/Dataset/Train',\n",
        "                                                 target_size = (224, 224),\n",
        "                                                 batch_size = 32,\n",
        "                                                 class_mode = 'categorical')"
      ]
    },
    {
      "cell_type": "code",
      "execution_count": null,
      "metadata": {
        "id": "VgLn-29e75Yw",
        "outputId": "c00bf41d-456c-41a3-9a61-5d98c5063b8c"
      },
      "outputs": [
        {
          "data": {
            "text/plain": [
              "<keras_preprocessing.image.directory_iterator.DirectoryIterator at 0x2bccf0d8488>"
            ]
          },
          "execution_count": 104,
          "metadata": {},
          "output_type": "execute_result"
        }
      ],
      "source": [
        "training_set"
      ]
    },
    {
      "cell_type": "code",
      "execution_count": 17,
      "metadata": {
        "colab": {
          "base_uri": "https://localhost:8080/"
        },
        "id": "Py8-_OOX75Yx",
        "outputId": "5b0689c2-d773-4347-9cd1-e7c9852daeb2"
      },
      "outputs": [
        {
          "output_type": "stream",
          "name": "stdout",
          "text": [
            "Found 134 images belonging to 2 classes.\n"
          ]
        }
      ],
      "source": [
        "test_set = test_datagen.flow_from_directory('/content/drive/MyDrive/dataset/Dataset/Test',\n",
        "                                            target_size = (224, 224),\n",
        "                                            batch_size = 32,\n",
        "                                            class_mode = 'categorical')"
      ]
    },
    {
      "cell_type": "code",
      "execution_count": 19,
      "metadata": {
        "scrolled": true,
        "colab": {
          "base_uri": "https://localhost:8080/"
        },
        "id": "VVcA6eL075Yx",
        "outputId": "f110b60d-1225-4650-93e9-3d21bb7c3667"
      },
      "outputs": [
        {
          "output_type": "stream",
          "name": "stderr",
          "text": [
            "<ipython-input-19-69229fe26ea3>:3: UserWarning: `Model.fit_generator` is deprecated and will be removed in a future version. Please use `Model.fit`, which supports generators.\n",
            "  r = model.fit_generator(\n"
          ]
        },
        {
          "output_type": "stream",
          "name": "stdout",
          "text": [
            "Epoch 1/50\n",
            "13/13 [==============================] - 108s 8s/step - loss: 3.2283 - accuracy: 0.5072 - val_loss: 0.6489 - val_accuracy: 0.6791\n",
            "Epoch 2/50\n",
            "13/13 [==============================] - 31s 2s/step - loss: 0.6998 - accuracy: 0.4904 - val_loss: 0.6692 - val_accuracy: 0.6791\n",
            "Epoch 3/50\n",
            "13/13 [==============================] - 29s 2s/step - loss: 0.6465 - accuracy: 0.5962 - val_loss: 0.7283 - val_accuracy: 0.3507\n",
            "Epoch 4/50\n",
            "13/13 [==============================] - 30s 2s/step - loss: 0.5543 - accuracy: 0.7212 - val_loss: 1.1369 - val_accuracy: 0.3209\n",
            "Epoch 5/50\n",
            "13/13 [==============================] - 30s 2s/step - loss: 0.5700 - accuracy: 0.6611 - val_loss: 0.8108 - val_accuracy: 0.5224\n",
            "Epoch 6/50\n",
            "13/13 [==============================] - 28s 2s/step - loss: 0.4761 - accuracy: 0.7548 - val_loss: 0.9759 - val_accuracy: 0.3209\n",
            "Epoch 7/50\n",
            "13/13 [==============================] - 31s 2s/step - loss: 0.4503 - accuracy: 0.7668 - val_loss: 0.7744 - val_accuracy: 0.4776\n",
            "Epoch 8/50\n",
            "13/13 [==============================] - 30s 2s/step - loss: 0.4376 - accuracy: 0.7957 - val_loss: 1.0082 - val_accuracy: 0.4104\n",
            "Epoch 9/50\n",
            "13/13 [==============================] - 31s 2s/step - loss: 0.3808 - accuracy: 0.8317 - val_loss: 0.7738 - val_accuracy: 0.5224\n",
            "Epoch 10/50\n",
            "13/13 [==============================] - 30s 2s/step - loss: 0.3601 - accuracy: 0.8317 - val_loss: 0.8531 - val_accuracy: 0.5373\n",
            "Epoch 11/50\n",
            "13/13 [==============================] - 31s 2s/step - loss: 0.3221 - accuracy: 0.8846 - val_loss: 0.6566 - val_accuracy: 0.5970\n",
            "Epoch 12/50\n",
            "13/13 [==============================] - 31s 2s/step - loss: 0.2764 - accuracy: 0.8918 - val_loss: 0.6782 - val_accuracy: 0.6343\n",
            "Epoch 13/50\n",
            "13/13 [==============================] - 30s 2s/step - loss: 0.2469 - accuracy: 0.9062 - val_loss: 0.7862 - val_accuracy: 0.6045\n",
            "Epoch 14/50\n",
            "13/13 [==============================] - 31s 2s/step - loss: 0.3014 - accuracy: 0.8942 - val_loss: 0.5643 - val_accuracy: 0.6716\n",
            "Epoch 15/50\n",
            "13/13 [==============================] - 31s 2s/step - loss: 0.2794 - accuracy: 0.9014 - val_loss: 0.4034 - val_accuracy: 0.8284\n",
            "Epoch 16/50\n",
            "13/13 [==============================] - 30s 2s/step - loss: 0.2972 - accuracy: 0.8822 - val_loss: 0.5136 - val_accuracy: 0.7388\n",
            "Epoch 17/50\n",
            "13/13 [==============================] - 30s 2s/step - loss: 0.2252 - accuracy: 0.9207 - val_loss: 0.4030 - val_accuracy: 0.7985\n",
            "Epoch 18/50\n",
            "13/13 [==============================] - 31s 2s/step - loss: 0.1809 - accuracy: 0.9351 - val_loss: 0.3848 - val_accuracy: 0.8134\n",
            "Epoch 19/50\n",
            "13/13 [==============================] - 31s 2s/step - loss: 0.1758 - accuracy: 0.9279 - val_loss: 0.3100 - val_accuracy: 0.8731\n",
            "Epoch 20/50\n",
            "13/13 [==============================] - 30s 2s/step - loss: 0.1488 - accuracy: 0.9519 - val_loss: 0.4288 - val_accuracy: 0.7687\n",
            "Epoch 21/50\n",
            "13/13 [==============================] - 29s 2s/step - loss: 0.1361 - accuracy: 0.9567 - val_loss: 0.2855 - val_accuracy: 0.8881\n",
            "Epoch 22/50\n",
            "13/13 [==============================] - 30s 2s/step - loss: 0.1379 - accuracy: 0.9591 - val_loss: 0.3330 - val_accuracy: 0.8358\n",
            "Epoch 23/50\n",
            "13/13 [==============================] - 31s 2s/step - loss: 0.1082 - accuracy: 0.9663 - val_loss: 0.2801 - val_accuracy: 0.8657\n",
            "Epoch 24/50\n",
            "13/13 [==============================] - 30s 2s/step - loss: 0.1102 - accuracy: 0.9688 - val_loss: 0.3504 - val_accuracy: 0.8284\n",
            "Epoch 25/50\n",
            "13/13 [==============================] - 28s 2s/step - loss: 0.0953 - accuracy: 0.9736 - val_loss: 0.3521 - val_accuracy: 0.8358\n",
            "Epoch 26/50\n",
            "13/13 [==============================] - 30s 2s/step - loss: 0.1036 - accuracy: 0.9736 - val_loss: 0.2925 - val_accuracy: 0.8582\n",
            "Epoch 27/50\n",
            "13/13 [==============================] - 31s 2s/step - loss: 0.0820 - accuracy: 0.9808 - val_loss: 0.8298 - val_accuracy: 0.6866\n",
            "Epoch 28/50\n",
            "13/13 [==============================] - 32s 2s/step - loss: 0.1312 - accuracy: 0.9615 - val_loss: 0.3640 - val_accuracy: 0.8433\n",
            "Epoch 29/50\n",
            "13/13 [==============================] - 30s 2s/step - loss: 0.1087 - accuracy: 0.9712 - val_loss: 0.4570 - val_accuracy: 0.8358\n",
            "Epoch 30/50\n",
            "13/13 [==============================] - 31s 2s/step - loss: 0.0886 - accuracy: 0.9736 - val_loss: 0.4202 - val_accuracy: 0.8209\n",
            "Epoch 31/50\n",
            "13/13 [==============================] - 31s 2s/step - loss: 0.0899 - accuracy: 0.9832 - val_loss: 0.2185 - val_accuracy: 0.9254\n",
            "Epoch 32/50\n",
            "13/13 [==============================] - 31s 2s/step - loss: 0.1115 - accuracy: 0.9736 - val_loss: 0.5152 - val_accuracy: 0.8209\n",
            "Epoch 33/50\n",
            "13/13 [==============================] - 28s 2s/step - loss: 0.1312 - accuracy: 0.9495 - val_loss: 0.3159 - val_accuracy: 0.8582\n",
            "Epoch 34/50\n",
            "13/13 [==============================] - 30s 2s/step - loss: 0.1079 - accuracy: 0.9591 - val_loss: 0.2568 - val_accuracy: 0.8657\n",
            "Epoch 35/50\n",
            "13/13 [==============================] - 30s 2s/step - loss: 0.0717 - accuracy: 0.9808 - val_loss: 0.2616 - val_accuracy: 0.8806\n",
            "Epoch 36/50\n",
            "13/13 [==============================] - 30s 2s/step - loss: 0.0741 - accuracy: 0.9736 - val_loss: 0.2251 - val_accuracy: 0.9030\n",
            "Epoch 37/50\n",
            "13/13 [==============================] - 28s 2s/step - loss: 0.0559 - accuracy: 0.9832 - val_loss: 0.2965 - val_accuracy: 0.9030\n",
            "Epoch 38/50\n",
            "13/13 [==============================] - 30s 2s/step - loss: 0.0684 - accuracy: 0.9880 - val_loss: 0.2651 - val_accuracy: 0.8881\n",
            "Epoch 39/50\n",
            "13/13 [==============================] - 30s 2s/step - loss: 0.0681 - accuracy: 0.9760 - val_loss: 0.2390 - val_accuracy: 0.9030\n",
            "Epoch 40/50\n",
            "13/13 [==============================] - 31s 2s/step - loss: 0.0679 - accuracy: 0.9832 - val_loss: 0.2886 - val_accuracy: 0.8731\n",
            "Epoch 41/50\n",
            "13/13 [==============================] - 31s 2s/step - loss: 0.0789 - accuracy: 0.9760 - val_loss: 0.3150 - val_accuracy: 0.8657\n",
            "Epoch 42/50\n",
            "13/13 [==============================] - 28s 2s/step - loss: 0.0725 - accuracy: 0.9832 - val_loss: 0.2764 - val_accuracy: 0.8955\n",
            "Epoch 43/50\n",
            "13/13 [==============================] - 30s 2s/step - loss: 0.0608 - accuracy: 0.9856 - val_loss: 0.2405 - val_accuracy: 0.9030\n",
            "Epoch 44/50\n",
            "13/13 [==============================] - 31s 2s/step - loss: 0.0755 - accuracy: 0.9808 - val_loss: 0.1757 - val_accuracy: 0.9179\n",
            "Epoch 45/50\n",
            "13/13 [==============================] - 30s 2s/step - loss: 0.0449 - accuracy: 0.9928 - val_loss: 0.1803 - val_accuracy: 0.9328\n",
            "Epoch 46/50\n",
            "13/13 [==============================] - 28s 2s/step - loss: 0.0668 - accuracy: 0.9784 - val_loss: 0.2888 - val_accuracy: 0.9030\n",
            "Epoch 47/50\n",
            "13/13 [==============================] - 31s 2s/step - loss: 0.0546 - accuracy: 0.9856 - val_loss: 0.2643 - val_accuracy: 0.8955\n",
            "Epoch 48/50\n",
            "13/13 [==============================] - 30s 2s/step - loss: 0.0941 - accuracy: 0.9712 - val_loss: 0.2088 - val_accuracy: 0.9030\n",
            "Epoch 49/50\n",
            "13/13 [==============================] - 31s 2s/step - loss: 0.0512 - accuracy: 0.9880 - val_loss: 0.2372 - val_accuracy: 0.9104\n",
            "Epoch 50/50\n",
            "13/13 [==============================] - 31s 2s/step - loss: 0.0401 - accuracy: 0.9880 - val_loss: 0.2478 - val_accuracy: 0.9030\n"
          ]
        }
      ],
      "source": [
        "# fit the model\n",
        "# Run the cell. It will take some time to execute\n",
        "r = model.fit_generator(\n",
        "  training_set,\n",
        "  validation_data=test_set,\n",
        "  epochs=50,\n",
        "  steps_per_epoch=len(training_set),\n",
        "  validation_steps=len(test_set)\n",
        ")"
      ]
    },
    {
      "cell_type": "code",
      "execution_count": null,
      "metadata": {
        "id": "59XMcDjC75Yy"
      },
      "outputs": [],
      "source": []
    },
    {
      "cell_type": "code",
      "execution_count": 20,
      "metadata": {
        "colab": {
          "base_uri": "https://localhost:8080/",
          "height": 860
        },
        "id": "gUkGYYWk75Yz",
        "outputId": "03695d76-a315-4c55-95f8-482523e4b33c"
      },
      "outputs": [
        {
          "output_type": "display_data",
          "data": {
            "text/plain": [
              "<Figure size 640x480 with 1 Axes>"
            ],
            "image/png": "[encoded data removed]"
          },
          "metadata": {}
        },
        {
          "output_type": "display_data",
          "data": {
            "text/plain": [
              "<Figure size 640x480 with 1 Axes>"
            ],
            "image/png": "[encoded data removed]"
          },
          "metadata": {}
        },
        {
          "output_type": "display_data",
          "data": {
            "text/plain": [
              "<Figure size 640x480 with 0 Axes>"
            ]
          },
          "metadata": {}
        }
      ],
      "source": [
        "# plot the loss\n",
        "plt.plot(r.history['loss'], label='train loss')\n",
        "plt.plot(r.history['val_loss'], label='val loss')\n",
        "plt.legend()\n",
        "plt.show()\n",
        "plt.savefig('LossVal_loss')\n",
        "\n",
        "# plot the accuracy\n",
        "plt.plot(r.history['accuracy'], label='train acc')\n",
        "plt.plot(r.history['val_accuracy'], label='val acc')\n",
        "plt.legend()\n",
        "plt.show()\n",
        "plt.savefig('AccVal_acc')"
      ]
    },
    {
      "cell_type": "code",
      "execution_count": 21,
      "metadata": {
        "colab": {
          "base_uri": "https://localhost:8080/"
        },
        "id": "c1pzkMT975Yz",
        "outputId": "9d343943-deab-4e88-bc8a-f5fc8ec18eae"
      },
      "outputs": [
        {
          "output_type": "stream",
          "name": "stderr",
          "text": [
            "/usr/local/lib/python3.10/dist-packages/keras/src/engine/training.py:3103: UserWarning: You are saving your model as an HDF5 file via `model.save()`. This file format is considered legacy. We recommend using instead the native Keras format, e.g. `model.save('my_model.keras')`.\n",
            "  saving_api.save_model(\n"
          ]
        }
      ],
      "source": [
        "# save it as a h5 file\n",
        "\n",
        "\n",
        "from tensorflow.keras.models import load_model\n",
        "\n",
        "model.save('model_vgg19.h5')"
      ]
    },
    {
      "cell_type": "code",
      "execution_count": null,
      "metadata": {
        "id": "cQh2uBO775Y0"
      },
      "outputs": [],
      "source": []
    },
    {
      "cell_type": "code",
      "execution_count": 22,
      "metadata": {
        "colab": {
          "base_uri": "https://localhost:8080/"
        },
        "id": "I-_8zfmN75Y0",
        "outputId": "1d1d0257-50db-4224-fd2b-b538364f8b8b"
      },
      "outputs": [
        {
          "output_type": "stream",
          "name": "stdout",
          "text": [
            "5/5 [==============================] - 2s 314ms/step\n"
          ]
        }
      ],
      "source": [
        "\n",
        "y_pred = model.predict(test_set)\n"
      ]
    },
    {
      "cell_type": "code",
      "execution_count": 23,
      "metadata": {
        "colab": {
          "base_uri": "https://localhost:8080/"
        },
        "id": "CE-ocel775Y0",
        "outputId": "44636c28-7a91-45a3-9455-039015f0d619"
      },
      "outputs": [
        {
          "output_type": "execute_result",
          "data": {
            "text/plain": [
              "array([[2.92914677e-02, 9.70708549e-01],\n",
              "       [9.99999821e-01, 1.41391325e-07],\n",
              "       [9.99717832e-01, 2.82251189e-04],\n",
              "       [8.35084449e-03, 9.91649151e-01],\n",
              "       [9.99964297e-01, 3.56666569e-05],\n",
              "       [7.24739507e-02, 9.27526057e-01],\n",
              "       [7.55389452e-01, 2.44610548e-01],\n",
              "       [4.01872210e-02, 9.59812760e-01],\n",
              "       [9.99835968e-01, 1.64052748e-04],\n",
              "       [9.99889553e-01, 1.10324640e-04],\n",
              "       [2.27444284e-02, 9.77255523e-01],\n",
              "       [2.79773027e-02, 9.72022653e-01],\n",
              "       [9.99999940e-01, 2.17412872e-12],\n",
              "       [9.99916971e-01, 8.29669589e-05],\n",
              "       [4.74440008e-02, 9.52555954e-01],\n",
              "       [5.23071969e-03, 9.94769275e-01],\n",
              "       [9.99035656e-01, 9.64321545e-04],\n",
              "       [9.99975026e-01, 2.49499517e-05],\n",
              "       [9.98331249e-01, 1.66874484e-03],\n",
              "       [9.99999940e-01, 6.61214106e-09],\n",
              "       [4.95754570e-01, 5.04245460e-01],\n",
              "       [9.99987066e-01, 1.29324708e-05],\n",
              "       [9.99999940e-01, 1.89152538e-09],\n",
              "       [1.04037235e-02, 9.89596307e-01],\n",
              "       [5.20416163e-03, 9.94795859e-01],\n",
              "       [1.51703591e-02, 9.84829724e-01],\n",
              "       [9.99999464e-01, 5.04579759e-07],\n",
              "       [9.99999940e-01, 4.32817604e-09],\n",
              "       [9.99815226e-01, 1.84682576e-04],\n",
              "       [9.79626894e-01, 2.03731470e-02],\n",
              "       [9.99991357e-01, 8.54311838e-06],\n",
              "       [9.21780705e-01, 7.82193020e-02],\n",
              "       [1.88331734e-02, 9.81166840e-01],\n",
              "       [9.99928772e-01, 7.11065441e-05],\n",
              "       [9.99998629e-01, 1.35596508e-06],\n",
              "       [3.96413617e-02, 9.60358620e-01],\n",
              "       [1.26212463e-02, 9.87378657e-01],\n",
              "       [9.99999464e-01, 5.03997853e-07],\n",
              "       [9.99992311e-01, 7.63464504e-06],\n",
              "       [9.98436451e-01, 1.56360411e-03],\n",
              "       [6.31510675e-01, 3.68489236e-01],\n",
              "       [3.75176296e-02, 9.62482274e-01],\n",
              "       [6.80853903e-01, 3.19146067e-01],\n",
              "       [7.69816805e-03, 9.92301881e-01],\n",
              "       [9.75568295e-01, 2.44316626e-02],\n",
              "       [9.98430490e-01, 1.56949228e-03],\n",
              "       [9.99968588e-01, 3.13515520e-05],\n",
              "       [1.22771263e-02, 9.87722933e-01],\n",
              "       [1.02065001e-02, 9.89793420e-01],\n",
              "       [9.93921816e-01, 6.07820228e-03],\n",
              "       [9.99999940e-01, 4.83913417e-16],\n",
              "       [9.99999940e-01, 1.54489321e-09],\n",
              "       [3.86990830e-02, 9.61300969e-01],\n",
              "       [9.99932706e-01, 6.72126262e-05],\n",
              "       [9.99327600e-01, 6.72341266e-04],\n",
              "       [1.03165828e-01, 8.96834135e-01],\n",
              "       [9.95578825e-01, 4.42116242e-03],\n",
              "       [3.57662179e-02, 9.64233696e-01],\n",
              "       [9.99999940e-01, 1.62158190e-15],\n",
              "       [9.99999940e-01, 4.06522371e-09],\n",
              "       [1.18950687e-01, 8.81049335e-01],\n",
              "       [2.62197517e-02, 9.73780215e-01],\n",
              "       [9.99999940e-01, 3.23162286e-16],\n",
              "       [9.99993145e-01, 6.77627168e-06],\n",
              "       [9.99999940e-01, 1.63225931e-08],\n",
              "       [9.99992788e-01, 7.16164550e-06],\n",
              "       [9.99356329e-01, 6.43666310e-04],\n",
              "       [9.99950469e-01, 4.94340020e-05],\n",
              "       [9.99983728e-01, 1.62593715e-05],\n",
              "       [9.99623597e-01, 3.76399024e-04],\n",
              "       [9.99875307e-01, 1.24666680e-04],\n",
              "       [9.99846458e-01, 1.53577479e-04],\n",
              "       [3.47144961e-01, 6.52854919e-01],\n",
              "       [5.54158119e-03, 9.94458497e-01],\n",
              "       [9.99943078e-01, 5.68006653e-05],\n",
              "       [1.75364260e-02, 9.82463598e-01],\n",
              "       [9.99999464e-01, 4.67049546e-07],\n",
              "       [8.39013979e-03, 9.91609871e-01],\n",
              "       [9.51992571e-01, 4.80073951e-02],\n",
              "       [1.45644667e-02, 9.85435545e-01],\n",
              "       [2.84771100e-02, 9.71522808e-01],\n",
              "       [3.65749151e-01, 6.34250820e-01],\n",
              "       [8.10108781e-01, 1.89891174e-01],\n",
              "       [1.27986381e-02, 9.87201333e-01],\n",
              "       [9.99999940e-01, 2.20915854e-08],\n",
              "       [2.16127597e-02, 9.78387177e-01],\n",
              "       [9.99803543e-01, 1.96483306e-04],\n",
              "       [1.44749433e-01, 8.55250537e-01],\n",
              "       [6.69024765e-01, 3.30975264e-01],\n",
              "       [3.29229794e-02, 9.67077076e-01],\n",
              "       [9.99700427e-01, 2.99571228e-04],\n",
              "       [9.99550879e-01, 4.49122977e-04],\n",
              "       [9.98933017e-01, 1.06698764e-03],\n",
              "       [2.80753765e-02, 9.71924663e-01],\n",
              "       [9.98703003e-01, 1.29699591e-03],\n",
              "       [1.94621794e-02, 9.80537891e-01],\n",
              "       [9.99977052e-01, 2.29177786e-05],\n",
              "       [9.99995530e-01, 4.43656199e-06],\n",
              "       [9.99999940e-01, 2.33172552e-12],\n",
              "       [2.24872455e-01, 7.75127530e-01],\n",
              "       [8.33807960e-02, 9.16619182e-01],\n",
              "       [9.99939859e-01, 6.01154861e-05],\n",
              "       [9.99994695e-01, 5.24217103e-06],\n",
              "       [2.96518728e-02, 9.70348120e-01],\n",
              "       [6.20527519e-03, 9.93794680e-01],\n",
              "       [2.10199207e-02, 9.78980005e-01],\n",
              "       [8.94318968e-02, 9.10568178e-01],\n",
              "       [2.75849458e-02, 9.72414911e-01],\n",
              "       [9.99844313e-01, 1.55645990e-04],\n",
              "       [9.99999940e-01, 3.80289928e-19],\n",
              "       [1.14592016e-01, 8.85407984e-01],\n",
              "       [2.23539159e-01, 7.76460826e-01],\n",
              "       [9.99922454e-01, 7.74722503e-05],\n",
              "       [9.99999940e-01, 5.26359374e-19],\n",
              "       [9.99895632e-01, 1.04332546e-04],\n",
              "       [7.58901909e-02, 9.24109817e-01],\n",
              "       [9.99999940e-01, 4.40989578e-10],\n",
              "       [9.05138314e-01, 9.48617235e-02],\n",
              "       [7.28394836e-02, 9.27160442e-01],\n",
              "       [9.99996841e-01, 3.06727065e-06],\n",
              "       [9.99999940e-01, 2.48279486e-09],\n",
              "       [7.87354931e-02, 9.21264470e-01],\n",
              "       [9.99955356e-01, 4.45930891e-05],\n",
              "       [9.99959171e-01, 4.07519365e-05],\n",
              "       [9.99999821e-01, 7.97227031e-08],\n",
              "       [4.70614061e-03, 9.95293796e-01],\n",
              "       [1.68169081e-01, 8.31830919e-01],\n",
              "       [1.59514174e-02, 9.84048605e-01],\n",
              "       [1.00000000e+00, 1.62454578e-10],\n",
              "       [1.78025793e-02, 9.82197404e-01],\n",
              "       [9.99958396e-01, 4.16030489e-05],\n",
              "       [1.40638307e-01, 8.59361708e-01],\n",
              "       [2.44469032e-01, 7.55530953e-01],\n",
              "       [1.09612226e-01, 8.90387833e-01]], dtype=float32)"
            ]
          },
          "metadata": {},
          "execution_count": 23
        }
      ],
      "source": [
        "y_pred"
      ]
    },
    {
      "cell_type": "code",
      "execution_count": 24,
      "metadata": {
        "id": "3VTOWQb675Y1"
      },
      "outputs": [],
      "source": [
        "import numpy as np\n",
        "y_pred = np.argmax(y_pred, axis=1)"
      ]
    },
    {
      "cell_type": "code",
      "execution_count": null,
      "metadata": {
        "id": "t6IanME-75Y1",
        "outputId": "7fe4ea88-9857-4254-8a39-1e8f517a3162"
      },
      "outputs": [
        {
          "data": {
            "text/plain": [
              "array([0, 0, 0, 0, 0, 1, 1, 1, 0, 0, 0, 0, 0, 0, 1, 0, 1, 0, 0, 0, 0, 0,\n",
              "       1, 0, 0, 0, 1, 0, 0, 0, 0, 1, 0, 1, 1, 0, 0, 0, 0, 1, 1, 0, 0, 0,\n",
              "       0, 0, 0, 0, 0, 1, 1, 1, 1, 0, 1, 0, 0, 0, 0, 0, 1, 0, 0, 1, 0, 1,\n",
              "       1, 0, 0, 0, 0, 1, 1, 0, 0, 0, 0, 1, 1, 0, 0, 0, 1, 0, 0, 0, 0, 0,\n",
              "       1, 0, 0, 1, 0, 1, 1, 1, 0, 0, 1, 0, 0, 0, 0, 1, 1, 0, 0, 0, 1, 0,\n",
              "       0, 0, 0, 1, 0, 0, 0, 0, 0, 0, 0, 0, 1, 1, 0, 0, 1, 1, 0, 1, 0, 0,\n",
              "       1, 1], dtype=int64)"
            ]
          },
          "execution_count": 21,
          "metadata": {},
          "output_type": "execute_result"
        }
      ],
      "source": [
        "y_pred"
      ]
    },
    {
      "cell_type": "code",
      "execution_count": null,
      "metadata": {
        "id": "mraFDtLA75Y2"
      },
      "outputs": [],
      "source": []
    },
    {
      "cell_type": "code",
      "execution_count": 25,
      "metadata": {
        "id": "oGcd5FJ975Y2"
      },
      "outputs": [],
      "source": [
        "from tensorflow.keras.models import load_model\n",
        "from tensorflow.keras.preprocessing import image"
      ]
    },
    {
      "cell_type": "code",
      "execution_count": null,
      "metadata": {
        "id": "VDR5SML475Y2"
      },
      "outputs": [],
      "source": [
        "model=load_model('model_vgg19.h5')"
      ]
    },
    {
      "cell_type": "code",
      "execution_count": null,
      "metadata": {
        "id": "Odt5KCRk75Y3"
      },
      "outputs": [],
      "source": []
    },
    {
      "cell_type": "code",
      "execution_count": null,
      "metadata": {
        "id": "unL4RKIO75Y3"
      },
      "outputs": [],
      "source": [
        "img=image.load_img('Dataset/Test/Uninfected/2.png',target_size=(224,224))\n",
        "\n"
      ]
    },
    {
      "cell_type": "code",
      "execution_count": null,
      "metadata": {
        "id": "wVodS1w_75Y3",
        "outputId": "e8f8b16f-c9a7-4600-a600-53f069e9e829"
      },
      "outputs": [
        {
          "data": {
            "text/plain": [
              "array([[[0., 0., 0.],\n",
              "        [0., 0., 0.],\n",
              "        [0., 0., 0.],\n",
              "        ...,\n",
              "        [0., 0., 0.],\n",
              "        [0., 0., 0.],\n",
              "        [0., 0., 0.]],\n",
              "\n",
              "       [[0., 0., 0.],\n",
              "        [0., 0., 0.],\n",
              "        [0., 0., 0.],\n",
              "        ...,\n",
              "        [0., 0., 0.],\n",
              "        [0., 0., 0.],\n",
              "        [0., 0., 0.]],\n",
              "\n",
              "       [[0., 0., 0.],\n",
              "        [0., 0., 0.],\n",
              "        [0., 0., 0.],\n",
              "        ...,\n",
              "        [0., 0., 0.],\n",
              "        [0., 0., 0.],\n",
              "        [0., 0., 0.]],\n",
              "\n",
              "       ...,\n",
              "\n",
              "       [[0., 0., 0.],\n",
              "        [0., 0., 0.],\n",
              "        [0., 0., 0.],\n",
              "        ...,\n",
              "        [0., 0., 0.],\n",
              "        [0., 0., 0.],\n",
              "        [0., 0., 0.]],\n",
              "\n",
              "       [[0., 0., 0.],\n",
              "        [0., 0., 0.],\n",
              "        [0., 0., 0.],\n",
              "        ...,\n",
              "        [0., 0., 0.],\n",
              "        [0., 0., 0.],\n",
              "        [0., 0., 0.]],\n",
              "\n",
              "       [[0., 0., 0.],\n",
              "        [0., 0., 0.],\n",
              "        [0., 0., 0.],\n",
              "        ...,\n",
              "        [0., 0., 0.],\n",
              "        [0., 0., 0.],\n",
              "        [0., 0., 0.]]], dtype=float32)"
            ]
          },
          "execution_count": 27,
          "metadata": {},
          "output_type": "execute_result"
        }
      ],
      "source": [
        "x=image.img_to_array(img)\n",
        "x"
      ]
    },
    {
      "cell_type": "code",
      "execution_count": null,
      "metadata": {
        "id": "OQpw0er375Y4",
        "outputId": "9db5124f-5dcf-4eeb-ef2a-b01ab1c80f30"
      },
      "outputs": [
        {
          "data": {
            "text/plain": [
              "(224, 224, 3)"
            ]
          },
          "execution_count": 28,
          "metadata": {},
          "output_type": "execute_result"
        }
      ],
      "source": [
        "x.shape"
      ]
    },
    {
      "cell_type": "code",
      "execution_count": null,
      "metadata": {
        "id": "BBSChSI475Y4"
      },
      "outputs": [],
      "source": [
        "x=x/255"
      ]
    },
    {
      "cell_type": "code",
      "execution_count": null,
      "metadata": {
        "id": "ZvHqrLnw75Y5",
        "outputId": "01908861-0a0b-46f5-88ec-ade0dfbc74ca"
      },
      "outputs": [
        {
          "data": {
            "text/plain": [
              "(1, 224, 224, 3)"
            ]
          },
          "execution_count": 30,
          "metadata": {},
          "output_type": "execute_result"
        }
      ],
      "source": [
        "x=np.expand_dims(x,axis=0)\n",
        "img_data=preprocess_input(x)\n",
        "img_data.shape"
      ]
    },
    {
      "cell_type": "code",
      "execution_count": null,
      "metadata": {
        "id": "6Tg5KOkZ75Y5",
        "outputId": "101d10be-2904-4a5f-ef97-f95c1bfe4bec"
      },
      "outputs": [
        {
          "data": {
            "text/plain": [
              "array([[0.01155142, 0.98844856]], dtype=float32)"
            ]
          },
          "execution_count": 31,
          "metadata": {},
          "output_type": "execute_result"
        }
      ],
      "source": [
        "model.predict(img_data)"
      ]
    },
    {
      "cell_type": "code",
      "execution_count": null,
      "metadata": {
        "id": "0AEnOXQk75Y5"
      },
      "outputs": [],
      "source": [
        "a=np.argmax(model.predict(img_data), axis=1)"
      ]
    },
    {
      "cell_type": "code",
      "execution_count": null,
      "metadata": {
        "id": "tf8Sxojm75Y6",
        "outputId": "229f186f-0e9a-4fab-948d-7d760bbec79e"
      },
      "outputs": [
        {
          "name": "stdout",
          "output_type": "stream",
          "text": [
            "Uninfected\n"
          ]
        }
      ],
      "source": [
        "if(a==1):\n",
        "    print(\"Uninfected\")\n",
        "else:\n",
        "    print(\"Infected\")"
      ]
    },
    {
      "cell_type": "code",
      "execution_count": null,
      "metadata": {
        "id": "7A_6oits75Y8"
      },
      "outputs": [],
      "source": []
    },
    {
      "cell_type": "code",
      "execution_count": null,
      "metadata": {
        "id": "6HyQqzp075Y8"
      },
      "outputs": [],
      "source": []
    }
  ],
  "metadata": {
    "kernelspec": {
      "display_name": "Python 3",
      "language": "python",
      "name": "python3"
    },
    "language_info": {
      "codemirror_mode": {
        "name": "ipython",
        "version": 3
      },
      "file_extension": ".py",
      "mimetype": "text/x-python",
      "name": "python",
      "nbconvert_exporter": "python",
      "pygments_lexer": "ipython3",
      "version": "3.7.4"
    },
    "colab": {
      "provenance": [],
      "include_colab_link": true
    }
  },
  "nbformat": 4,
  "nbformat_minor": 0
}